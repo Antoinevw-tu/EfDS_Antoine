{
 "cells": [
  {
   "cell_type": "markdown",
   "source": [
    "## Exercises"
   ],
   "metadata": {
    "collapsed": false
   }
  },
  {
   "cell_type": "code",
   "execution_count": null,
   "outputs": [],
   "source": [
    "import numpy as np"
   ],
   "metadata": {
    "collapsed": false
   }
  },
  {
   "cell_type": "markdown",
   "source": [
    "### Create arrays"
   ],
   "metadata": {
    "collapsed": false
   }
  },
  {
   "cell_type": "markdown",
   "source": [
    "- 1-dimensional array over the range 11, 14, 17, 20, ..., 50. In addition show the type, size, shape and number of dimensions of the array."
   ],
   "metadata": {
    "collapsed": false
   }
  },
  {
   "cell_type": "code",
   "execution_count": null,
   "outputs": [],
   "source": [
    "# ..."
   ],
   "metadata": {
    "collapsed": false
   }
  },
  {
   "cell_type": "markdown",
   "source": [
    "- 2-dimensional array of shape=(5,3) booleans arr set to True."
   ],
   "metadata": {
    "collapsed": false
   }
  },
  {
   "cell_type": "code",
   "execution_count": null,
   "outputs": [],
   "source": [
    "# ..."
   ],
   "metadata": {
    "collapsed": false
   }
  },
  {
   "cell_type": "markdown",
   "source": [
    "- 2-dimensional array of shape=(9,3) of the alphabet a..z. Pad with empty string \"\" to fit the shape."
   ],
   "metadata": {
    "collapsed": false
   }
  },
  {
   "cell_type": "code",
   "execution_count": null,
   "outputs": [],
   "source": [
    " # ..."
   ],
   "metadata": {
    "collapsed": false
   }
  },
  {
   "cell_type": "markdown",
   "source": [
    "- 2-dimensional array of shape=(5,6) filled with '***'. Hint: see *numpy.full*."
   ],
   "metadata": {
    "collapsed": false
   }
  },
  {
   "cell_type": "code",
   "execution_count": null,
   "outputs": [],
   "source": [
    "# ..."
   ],
   "metadata": {
    "collapsed": false
   }
  },
  {
   "cell_type": "markdown",
   "source": [
    "## Array indices\n",
    "\n",
    "The exercise below cover array access an assignments using indices."
   ],
   "metadata": {
    "collapsed": false
   }
  },
  {
   "cell_type": "markdown",
   "source": [
    "- Given the 2-dimensional array *arr2d* below, fetch the following elements\n",
    "    - fetch single elements:  'a', 'f'\n",
    "    - fetch [c,d] on axis-0\n",
    "    - fetch [b,d,f] on axis-1"
   ],
   "metadata": {
    "collapsed": false
   }
  },
  {
   "cell_type": "code",
   "execution_count": null,
   "outputs": [],
   "source": [
    "arr2d = np.array(list(\"abcdef\")).reshape(3,2)\n",
    "# ..."
   ],
   "metadata": {
    "collapsed": false
   }
  },
  {
   "cell_type": "markdown",
   "source": [
    "- Given the 3-dimensional array arr3d:\n",
    "    - fetch:\n",
    "        - [[19,20],[22,23]]\n",
    "        - [[9,12,15],[11,14,17]]\n",
    "    - swap\n",
    "        - on axis-0 the 2nd and the 3rd elements\n",
    "        - the 1st and the 3rd element of all elements on axis-0\n",
    "        - repeat the previous swap but now only on the 1st element of axis-0 (*)"
   ],
   "metadata": {
    "collapsed": false
   }
  },
  {
   "cell_type": "code",
   "execution_count": null,
   "outputs": [],
   "source": [
    "arr3d = np.arange(3*3*3).reshape(3,3,3)\n",
    "# ..."
   ],
   "metadata": {
    "collapsed": false
   }
  },
  {
   "cell_type": "markdown",
   "source": [
    "- Implement the function *identity(n)* that generates the identity matrix of size *n*."
   ],
   "metadata": {
    "collapsed": false
   }
  },
  {
   "cell_type": "code",
   "execution_count": null,
   "outputs": [],
   "source": [
    "def identity(n):\n",
    "    \"\"\"\n",
    "    :param n:\n",
    "    :return: identity matrix of size n\n",
    "    \"\"\"\n",
    "    return None"
   ],
   "metadata": {
    "collapsed": false
   }
  },
  {
   "cell_type": "markdown",
   "source": [
    "- 3-dimensional array of shape=(3,2,3) of the range *0..n*. Set the odd values to -1."
   ],
   "metadata": {
    "collapsed": false
   }
  },
  {
   "cell_type": "code",
   "execution_count": null,
   "outputs": [],
   "source": [
    "# ..."
   ],
   "metadata": {
    "collapsed": false
   }
  },
  {
   "cell_type": "markdown",
   "source": [
    "- produce the following array (ref: numpy.repeat, numpy.tile) :\n",
    "\n",
    " <tt> [5, 5, 5, 3, 3, 3, 5, 7, 5, 7, 5, 7]</tt>"
   ],
   "metadata": {
    "collapsed": false
   }
  },
  {
   "cell_type": "code",
   "execution_count": null,
   "outputs": [],
   "source": [
    "# ..."
   ],
   "metadata": {
    "collapsed": false
   }
  },
  {
   "cell_type": "markdown",
   "source": [
    "## Random generator"
   ],
   "metadata": {
    "collapsed": false
   }
  },
  {
   "cell_type": "code",
   "execution_count": null,
   "outputs": [],
   "source": [
    "from numpy.random import default_rng\n",
    "rng = default_rng(1234)"
   ],
   "metadata": {
    "collapsed": false
   }
  },
  {
   "cell_type": "markdown",
   "source": [
    "Create a 1-dimensional array random integers, range [0,100), of size 20. Test (True or False) whether the array contains any odd integers. Finally, count the number of odd integers."
   ],
   "metadata": {
    "collapsed": false
   }
  },
  {
   "cell_type": "code",
   "execution_count": null,
   "outputs": [],
   "source": [
    "# ..."
   ],
   "metadata": {
    "collapsed": false
   }
  },
  {
   "cell_type": "markdown",
   "source": [
    "## Summary\n",
    "\n",
    "1. Create a two-dimensional array of random integers over the range [0,100) with shape (8,4).\n",
    "2. Calculate the following summaries on axis=0:\n",
    "\n",
    "    - minimum, maximum, mean and median\n",
    "    - 1st and 3rd quartile.\n",
    "\n",
    "3. Write the function *summary* which takes a 2-dimensional array as input and produces an R like summary as shone below:\n",
    "\n",
    "```\n",
    "       0              1               2               3\n",
    " Min.   :13.0   Min.   :24.00   Min.   :10.00   Min.   :11.00\n",
    " 1st Qu.:42.5   1st Qu.:40.75   1st Qu.:46.00   1st Qu.:26.00\n",
    " Median :67.0   Median :76.50   Median :71.00   Median :34.50\n",
    " Mean   :60.0   Mean   :67.12   Mean   :64.75   Mean   :42.88\n",
    " 3rd Qu.:81.5   3rd Qu.:93.00   3rd Qu.:95.00   3rd Qu.:61.25\n",
    " Max.   :97.0   Max.   :97.00   Max.   :98.00   Max.   :86.00\n",
    "```"
   ],
   "metadata": {
    "collapsed": false
   }
  },
  {
   "cell_type": "code",
   "execution_count": null,
   "outputs": [],
   "source": [
    "# ..."
   ],
   "metadata": {
    "collapsed": false
   }
  },
  {
   "cell_type": "markdown",
   "source": [
    "## Matrix multiplication\n",
    "\n",
    "Implement function *mat_mult* which takes two 2-dimensional arrays and produces their product. Compare your results with the NumPy built-in operator '@'. Make sure that the function raises and exception if the matrix dimensions are incompatible."
   ],
   "metadata": {
    "collapsed": false
   }
  },
  {
   "cell_type": "code",
   "execution_count": null,
   "outputs": [],
   "source": [
    "# ..."
   ],
   "metadata": {
    "collapsed": false
   }
  },
  {
   "cell_type": "code",
   "execution_count": null,
   "outputs": [],
   "source": [
    "def mat_mul(m1,m2):\n",
    "    \"\"\"\n",
    "    :param m1:\n",
    "    :param m2:\n",
    "    :return: m1 multiplied by m2\n",
    "    \"\"\"\n",
    "    return"
   ],
   "metadata": {
    "collapsed": false
   }
  },
  {
   "cell_type": "markdown",
   "source": [
    "## Covariance matrix\n",
    "\n",
    "Calculate the covariance matrix between two or more random variables:\n",
    "\n",
    "**Synopsis:** <tt>cov(x_1,...,x_n)</tt>\n",
    "   - input: x_1,..,x_n random variables\n",
    "   - return: nxn symmetric array\n",
    "\n",
    "The covariance $cov(X,Y) = E[XY] - E[X]E[Y]$.\n",
    "\n",
    "**Data** We generate random variables X and Y with a joint normal distribution given means and covariance matrix. This can be done with *.random.multivariate_normal*:"
   ],
   "metadata": {
    "collapsed": false
   }
  },
  {
   "cell_type": "code",
   "execution_count": 463,
   "outputs": [],
   "source": [
    "cov = np.array([[1.5, .6], [ .6, .5]])  # covariance matrix\n",
    "X, Y = np.random.multivariate_normal(mean=(0,0), cov=cov, size=5000).T"
   ],
   "metadata": {
    "collapsed": false
   }
  },
  {
   "cell_type": "markdown",
   "source": [
    "Here is the scatter plot of our data:"
   ],
   "metadata": {
    "collapsed": false
   }
  },
  {
   "cell_type": "code",
   "execution_count": 462,
   "outputs": [
    {
     "data": {
      "text/plain": "<Figure size 640x480 with 1 Axes>",
      "image/png": "[encoded data removed]"
     },
     "metadata": {},
     "output_type": "display_data"
    }
   ],
   "source": [
    "import matplotlib.pyplot as plt\n",
    "plt.scatter(X, Y, alpha=.5, s=.5);"
   ],
   "metadata": {
    "collapsed": false
   }
  },
  {
   "cell_type": "markdown",
   "source": [
    "Implement the function cov and compare the results with NumPy built-in function *np.cov*."
   ],
   "metadata": {
    "collapsed": false
   }
  },
  {
   "cell_type": "code",
   "execution_count": null,
   "outputs": [],
   "source": [
    "# *args represents set of arguments and is iterable. calls will look\n",
    "# like: cov(x), cov(x,y), cov(x,y,z), etc.\n",
    "#\n",
    "def cov(*args):\n",
    "    \"\"\"\n",
    "\n",
    "    :param args:\n",
    "    :return:\n",
    "    \"\"\""
   ],
   "metadata": {
    "collapsed": false
   }
  }
 ],
 "metadata": {
  "kernelspec": {
   "display_name": "Python 3",
   "language": "python",
   "name": "python3"
  },
  "language_info": {
   "codemirror_mode": {
    "name": "ipython",
    "version": 2
   },
   "file_extension": ".py",
   "mimetype": "text/x-python",
   "name": "python",
   "nbconvert_exporter": "python",
   "pygments_lexer": "ipython2",
   "version": "2.7.6"
  }
 },
 "nbformat": 4,
 "nbformat_minor": 0
}
